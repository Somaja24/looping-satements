{
 "cells": [
  {
   "cell_type": "code",
   "execution_count": 5,
   "id": "4355a0a5-419d-4ef0-b5e3-01a2c1571f77",
   "metadata": {},
   "outputs": [
    {
     "name": "stdin",
     "output_type": "stream",
     "text": [
      "enter the value of n: 22\n"
     ]
    },
    {
     "name": "stdout",
     "output_type": "stream",
     "text": [
      "total: 253\n"
     ]
    }
   ],
   "source": [
    "sum=0\n",
    "i=1\n",
    "n=int(input(\"enter the value of n:\"))\n",
    "while i<=n:\n",
    "   sum+=i\n",
    "   i+=1\n",
    "print(\"total:\",sum)\n"
   ]
  },
  {
   "cell_type": "code",
   "execution_count": 11,
   "id": "1781e659-c4af-4a6e-8690-92ce985446cd",
   "metadata": {},
   "outputs": [
    {
     "name": "stdout",
     "output_type": "stream",
     "text": [
      "apple\n",
      "apple\n",
      "apple\n",
      "apple\n",
      "apple\n",
      "apple\n"
     ]
    }
   ],
   "source": [
    "loop=0\n",
    "while loop<=5:\n",
    "   print('apple')\n",
    "   loop=loop+1"
   ]
  },
  {
   "cell_type": "code",
   "execution_count": 13,
   "id": "0464b985-bc79-42a9-bfbe-7723baa2b730",
   "metadata": {},
   "outputs": [
    {
     "name": "stdin",
     "output_type": "stream",
     "text": [
      "enter the value of n: 5\n"
     ]
    },
    {
     "name": "stdout",
     "output_type": "stream",
     "text": [
      "5 4 3 2 1 "
     ]
    }
   ],
   "source": [
    "n=int(input(\"enter the value of n:\"))\n",
    "i=n\n",
    "while i>=1:\n",
    "    print(i,end=' ')\n",
    "    i-=1"
   ]
  },
  {
   "cell_type": "code",
   "execution_count": 21,
   "id": "09779ef1-0b01-4dc6-8056-c0392b81c7d1",
   "metadata": {},
   "outputs": [
    {
     "name": "stdin",
     "output_type": "stream",
     "text": [
      "enter the value of n: 1234\n"
     ]
    },
    {
     "name": "stdout",
     "output_type": "stream",
     "text": [
      "1234\n",
      "4321\n"
     ]
    }
   ],
   "source": [
    "num=int(input(\"enter the value of n:\"))\n",
    "rev=0\n",
    "print(num)\n",
    "while num>0:\n",
    "    d=num%10\n",
    "    rev=rev*10+d\n",
    "    num//=10\n",
    "print(rev)    "
   ]
  },
  {
   "cell_type": "code",
   "execution_count": 23,
   "id": "efb5b44a-f908-46cd-bc36-bbe044b9975e",
   "metadata": {},
   "outputs": [
    {
     "name": "stdout",
     "output_type": "stream",
     "text": [
      "0 3 2 1 "
     ]
    }
   ],
   "source": [
    "n=1230\n",
    "while n!=0:\n",
    "    t=n%10\n",
    "    print(t,end=' ')\n",
    "    n//=10"
   ]
  },
  {
   "cell_type": "code",
   "execution_count": 33,
   "id": "5aac53ac-ed9f-44c1-9dcc-584d5146fe51",
   "metadata": {},
   "outputs": [
    {
     "name": "stdout",
     "output_type": "stream",
     "text": [
      "n: 1\n",
      "n: 2\n",
      "n: 3\n",
      "n: 4\n",
      "n: 5\n"
     ]
    }
   ],
   "source": [
    "n=1\n",
    "while n<=5:\n",
    "    print(\"n:\",n)\n",
    "    n+=1"
   ]
  },
  {
   "cell_type": "code",
   "execution_count": null,
   "id": "217e914b-8a47-4e24-b4e6-50db8c04eab7",
   "metadata": {},
   "outputs": [],
   "source": []
  }
 ],
 "metadata": {
  "kernelspec": {
   "display_name": "Python 3 (ipykernel)",
   "language": "python",
   "name": "python3"
  },
  "language_info": {
   "codemirror_mode": {
    "name": "ipython",
    "version": 3
   },
   "file_extension": ".py",
   "mimetype": "text/x-python",
   "name": "python",
   "nbconvert_exporter": "python",
   "pygments_lexer": "ipython3",
   "version": "3.12.7"
  }
 },
 "nbformat": 4,
 "nbformat_minor": 5
}
